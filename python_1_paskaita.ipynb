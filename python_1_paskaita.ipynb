{
  "nbformat": 4,
  "nbformat_minor": 0,
  "metadata": {
    "colab": {
      "name": "python-1-paskaita.ipynb",
      "provenance": [],
      "authorship_tag": "ABX9TyM0nlvvx4djAOz+JeMrZWQb",
      "include_colab_link": true
    },
    "kernelspec": {
      "name": "python3",
      "display_name": "Python 3"
    },
    "language_info": {
      "name": "python"
    }
  },
  "cells": [
    {
      "cell_type": "markdown",
      "metadata": {
        "id": "view-in-github",
        "colab_type": "text"
      },
      "source": [
        "<a href=\"https://colab.research.google.com/github/dainiuxt/pylearn/blob/main/python_1_paskaita.ipynb\" target=\"_parent\"><img src=\"https://colab.research.google.com/assets/colab-badge.svg\" alt=\"Open In Colab\"/></a>"
      ]
    },
    {
      "cell_type": "markdown",
      "source": [
        "2 užduotis\n",
        "\n",
        "Parašyti programą, kuri su eilute \"Zen of Python\" darytų šiuos veiksmus:\n",
        "\n",
        "    Atspausdintų paskutinį antro žodžio simbolį\n",
        "    Atspausdintų pirmą trečio žodžio simbolį\n",
        "    Atspausdintų tik pirmą žodį\n",
        "    Atspausdintų tik paskutinį žodį\n",
        "    Atspausdintų visą frazę atbulai\n",
        "    Atskirtų žodžius ir juos atspausdintų\n",
        "    Žodį \"Python\" pakeistų į \"Programming\" ir atspausdintų naują sakinį\n"
      ],
      "metadata": {
        "id": "QiLmpNqIZagH"
      }
    },
    {
      "cell_type": "code",
      "execution_count": 1,
      "metadata": {
        "colab": {
          "base_uri": "https://localhost:8080/"
        },
        "id": "GmXEz57zX3UO",
        "outputId": "fb73081a-cd4f-43dc-be0e-f2544d22c879"
      },
      "outputs": [
        {
          "output_type": "stream",
          "name": "stdout",
          "text": [
            "f\n",
            "y\n",
            "Zen\n",
            "Python\n",
            "nohtyP fo neZ\n",
            "['Zen', 'of', 'Python']\n",
            "Zen of Programming\n"
          ]
        }
      ],
      "source": [
        "sakinys = \"Zen of Python\"\n",
        "print(sakinys.split(' ')[1][-1])\n",
        "print(sakinys.split(' ')[2][1])\n",
        "print(sakinys.split(' ')[0])\n",
        "print(sakinys.split(' ')[-1])\n",
        "print(sakinys[::-1])\n",
        "print(sakinys.split(' '))\n",
        "print(sakinys.replace(\"Python\", \"Programming\"))"
      ]
    },
    {
      "cell_type": "markdown",
      "source": [
        "4 užduotis\n",
        "\n",
        "Parašyti programą, kuri:\n",
        "\n",
        "    Leistų įvesti pirmą skaičių\n",
        "    Leistų įvesti antrą skaičių\n",
        "    Paklaustų, kokį matematinį veiksmą reiktų atliktų\n",
        "    Atspausdintų rezultatą: pasirinktų skaičių suma, daugybą ar pan.\n"
      ],
      "metadata": {
        "id": "q89ACX_baXLG"
      }
    },
    {
      "cell_type": "code",
      "source": [
        "print(\"Įveskite du skaičius ir veiksmą (dešimtainę dalį galite atskirti tašku)\")\n",
        "pirmas = float(input(\"Įveskite pirmą skaičių: \"))\n",
        "antras = float(input(\"Įveskite antrą skaičių: \"))\n",
        "veiksmas = input(\"Įveskite pageidaujamą veiksmą\\n daugyba/dalyba/sudėtis/atimtis: \")\n",
        "\n",
        "if veiksmas == \"daugyba\":\n",
        "  print(pirmas * antras)\n",
        "\n",
        "elif veiksmas == \"dalyba\":\n",
        "  print(pirmas / antras)\n",
        "\n",
        "elif veiksmas == \"sudėtis\":\n",
        "  print(pirmas + antras)\n",
        "\n",
        "elif veiksmas == \"atimtis\":\n",
        "  print(pirmas - antras)"
      ],
      "metadata": {
        "colab": {
          "base_uri": "https://localhost:8080/"
        },
        "id": "CxwqUGwBZRMJ",
        "outputId": "4ec8d0d0-74f0-4c87-a31d-b501448df9f6"
      },
      "execution_count": 2,
      "outputs": [
        {
          "output_type": "stream",
          "name": "stdout",
          "text": [
            "Įveskite du skaičius ir veiksmą (dešimtainę dalį galite atskirti tašku)\n",
            "Įveskite pirmą skaičių: 2.5\n",
            "Įveskite antrą skaičių: 6\n",
            "Įveskite pageidaujamą veiksmą\n",
            " daugyba/dalyba/sudėtis/atimtis: daugyba\n",
            "15.0\n"
          ]
        }
      ]
    }
  ]
}